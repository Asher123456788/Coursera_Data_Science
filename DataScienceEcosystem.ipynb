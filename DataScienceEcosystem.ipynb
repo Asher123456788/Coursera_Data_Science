{
 "cells": [
  {
   "cell_type": "markdown",
   "id": "b7c5a893",
   "metadata": {},
   "source": [
    "# Data Science Tools and Ecosystem\n"
   ]
  },
  {
   "cell_type": "markdown",
   "id": "7f103e92",
   "metadata": {},
   "source": [
    "# Introduction\n",
    "In this notebook, Data Science Tools and Ecosystem are summarized."
   ]
  },
  {
   "cell_type": "markdown",
   "id": "d0d7a301",
   "metadata": {},
   "source": [
    "**Objectives:**\n",
    "- List popular languages for Data Science\n",
    "- List popular Library for Data Science\n",
    "- List of popular Data Science Tools\n",
    "- Simple arithmetic expression to mutiply then add integers\n",
    "- Conversion of Minutes to Hours"
   ]
  },
  {
   "cell_type": "markdown",
   "id": "77f0373e",
   "metadata": {},
   "source": [
    "# Overview: Popular Languages in Data Science\n",
    "\n",
    "Some of the popular languages that Data Scientists use are:\n",
    "\n",
    "1. Python\n",
    "2. R\n",
    "3. SQL\n"
   ]
  },
  {
   "cell_type": "markdown",
   "id": "0af64efd",
   "metadata": {},
   "source": [
    "# Overview: Popular Library in Data Science\n",
    "Some of the commonly used libraries used by Data Scientists include:\n",
    "1. Numpy\n",
    "2. Matplotlib\n",
    "3. Scikit-learn"
   ]
  },
  {
   "cell_type": "markdown",
   "id": "7b271a35",
   "metadata": {},
   "source": [
    "# Data Science Tools\n",
    "| Data Science Tools |\n",
    "|--------------------|\n",
    "| Jupyter Notebook   |\n",
    "| RStudio            |\n",
    "| VS code            |"
   ]
  },
  {
   "cell_type": "markdown",
   "id": "4882f7ec",
   "metadata": {},
   "source": [
    "### Below are a few examples of evaluating arithmetic expressions in Python."
   ]
  },
  {
   "cell_type": "markdown",
   "id": "e3e0c050",
   "metadata": {},
   "source": [
    "### This a simple arithmetic expression to mutiply then add integers"
   ]
  },
  {
   "cell_type": "code",
   "execution_count": 1,
   "id": "0ba72a9b",
   "metadata": {},
   "outputs": [
    {
     "data": {
      "text/plain": [
       "17"
      ]
     },
     "execution_count": 1,
     "metadata": {},
     "output_type": "execute_result"
    }
   ],
   "source": [
    "(3*4)+5"
   ]
  },
  {
   "cell_type": "markdown",
   "id": "5f221a83",
   "metadata": {},
   "source": [
    "### This will convert 200 minutes to hours by diving by 60"
   ]
  },
  {
   "cell_type": "code",
   "execution_count": 2,
   "id": "74cba8a5",
   "metadata": {},
   "outputs": [
    {
     "data": {
      "text/plain": [
       "3.3333333333333335"
      ]
     },
     "execution_count": 2,
     "metadata": {},
     "output_type": "execute_result"
    }
   ],
   "source": [
    "def min2hour(min):\n",
    "    hours = min/60\n",
    "    return hours\n",
    "\n",
    "min2hour(200)"
   ]
  },
  {
   "cell_type": "markdown",
   "id": "18281e38",
   "metadata": {},
   "source": [
    "## Author\n",
    "Asher"
   ]
  },
  {
   "cell_type": "code",
   "execution_count": null,
   "id": "5af80f3b",
   "metadata": {},
   "outputs": [],
   "source": []
  }
 ],
 "metadata": {
  "kernelspec": {
   "display_name": "Python 3 (ipykernel)",
   "language": "python",
   "name": "python3"
  },
  "language_info": {
   "codemirror_mode": {
    "name": "ipython",
    "version": 3
   },
   "file_extension": ".py",
   "mimetype": "text/x-python",
   "name": "python",
   "nbconvert_exporter": "python",
   "pygments_lexer": "ipython3",
   "version": "3.7.16"
  }
 },
 "nbformat": 4,
 "nbformat_minor": 5
}
